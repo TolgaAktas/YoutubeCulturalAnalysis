{
 "cells": [
  {
   "cell_type": "code",
   "execution_count": 28,
   "metadata": {},
   "outputs": [],
   "source": [
    "import h5py\n",
    "import glob \n",
    "import os\n",
    "import pandas as pd\n",
    "import numpy as np\n",
    "import re"
   ]
  },
  {
   "cell_type": "code",
   "execution_count": 10,
   "metadata": {},
   "outputs": [],
   "source": [
    "allDS = {}\n",
    "for f in glob.glob('data/*.{}'.format('h5')):\n",
    "    with h5py.File(f, 'r') as h5_file: \n",
    "        \n",
    "        class_name = os.path.splitext(os.path.basename(f))[0]\n",
    "        curr_ds = pd.read_csv('youtube-trending/{}videos.csv'.format(class_name),encoding=\"iso-8859-1\")\n",
    "        \n",
    "        pure_keys = []\n",
    "        for key in h5_file.keys():\n",
    "            vidID = key[2:]\n",
    "            pure_keys.append(vidID)\n",
    "        reduced_ds = curr_ds[curr_ds['video_id'].isin(pure_keys)]\n",
    "        reduced_ds = reduced_ds.sort_values('trending_date').drop_duplicates('video_id',keep='last')\n",
    "        reduced_ds.index = reduced_ds.video_id\n",
    "        reduced_ds = reduced_ds.reindex(pure_keys)\n",
    "        reduced_ds = reduced_ds.reset_index(drop=True)\n",
    "        \n",
    "        allDS[class_name] = reduced_ds\n",
    "        reduced_ds.to_csv(\"youtube-trending/{}videos1.csv\".format(class_name))\n",
    "        "
   ]
  },
  {
   "cell_type": "markdown",
   "metadata": {},
   "source": [
    "## Add Video_ID to One-Hot Encodings"
   ]
  },
  {
   "cell_type": "code",
   "execution_count": null,
   "metadata": {},
   "outputs": [],
   "source": [
    "dict_keys = ['CA','DE','FR','GB','IN','JP','KR','MX','RU','US']\n",
    "for f in glob.glob('data/*.{}'.format('h5')):\n",
    "    with h5py.File(f, 'r') as h5_file: \n",
    "        country_code = re.search('data\\\\\\(.*).h5', f).group(1)\n",
    "        pure_keys = {}\n",
    "        for idx,key in enumerate(h5_file.keys()):\n",
    "            vidID = key[2:]\n",
    "            pure_keys[idx] = vidID\n",
    "        objTable = pd.read_csv(\"onehot/{}.csv\".format(country_code))\n",
    "        objTable = objTable.rename(index=pure_keys)\n",
    "        objTable.to_csv(\"objTables/{}_objTable.csv\".format(country_code),encoding='utf-8')\n",
    "        print(\"finished {}\".format(country_code))"
   ]
  },
  {
   "cell_type": "code",
   "execution_count": null,
   "metadata": {},
   "outputs": [],
   "source": []
  },
  {
   "cell_type": "code",
   "execution_count": null,
   "metadata": {},
   "outputs": [],
   "source": []
  },
  {
   "cell_type": "code",
   "execution_count": null,
   "metadata": {},
   "outputs": [],
   "source": []
  }
 ],
 "metadata": {
  "kernelspec": {
   "display_name": "Python 3",
   "language": "python",
   "name": "python3"
  },
  "language_info": {
   "codemirror_mode": {
    "name": "ipython",
    "version": 3
   },
   "file_extension": ".py",
   "mimetype": "text/x-python",
   "name": "python",
   "nbconvert_exporter": "python",
   "pygments_lexer": "ipython3",
   "version": "3.7.4"
  }
 },
 "nbformat": 4,
 "nbformat_minor": 2
}
